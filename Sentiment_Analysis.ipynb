{
  "nbformat": 4,
  "nbformat_minor": 0,
  "metadata": {
    "colab": {
      "name": "Sentiment Analysis ",
      "provenance": [],
      "collapsed_sections": []
    },
    "kernelspec": {
      "name": "python3",
      "display_name": "Python 3"
    },
    "language_info": {
      "name": "python"
    }
  },
  "cells": [
    {
      "cell_type": "markdown",
      "metadata": {
        "id": "6tYd2eTHaCwC"
      },
      "source": [
        "# **BUSINESS PROBLEM**\n",
        "\n",
        "Description: Customer satisfaction and loyalty is a pivotal element in Food and hospitality business in determining financial performance. With the advent of various social networking sites and food ordering platforms, customers keep expressing their views and judgement about their dining experiences and taste of the food. \n",
        "\n",
        "**Objective** : So the objective is to analyze the text based comments made in various platforms, gauge the sentiments of customers and classify it as a positive or a negative review "
      ]
    },
    {
      "cell_type": "markdown",
      "metadata": {
        "id": "cDjNfIWVhAnv"
      },
      "source": [
        "### DATA OVERVIEW \n",
        "File name: reviews.tsv\n",
        "\n",
        "1.   Number of rows: 1000\n",
        "2.   No of column: 2"
      ]
    },
    {
      "cell_type": "markdown",
      "metadata": {
        "id": "b6y6c9jGkJn4"
      },
      "source": [
        "### **IMPORTING LIBRARIES**"
      ]
    },
    {
      "cell_type": "code",
      "metadata": {
        "id": "-V596atJZ__Q"
      },
      "source": [
        "import numpy as np \n",
        "import pandas as pd\n",
        "import matplotlib.pyplot as plt\n",
        "import seaborn as sns"
      ],
      "execution_count": null,
      "outputs": []
    },
    {
      "cell_type": "markdown",
      "metadata": {
        "id": "LgVpKMs_kQAO"
      },
      "source": [
        "### **IMPORTING THE DATA**"
      ]
    },
    {
      "cell_type": "code",
      "metadata": {
        "id": "HmpyKwTW_xGB"
      },
      "source": [
        " df = pd.read_csv('/content/Restaurant Reviews.tsv', delimiter = '\\t')"
      ],
      "execution_count": null,
      "outputs": []
    },
    {
      "cell_type": "code",
      "metadata": {
        "colab": {
          "base_uri": "https://localhost:8080/",
          "height": 204
        },
        "id": "xwXibyXp_to2",
        "outputId": "992500ba-1eb6-4f45-9558-29b8129db5ba"
      },
      "source": [
        "#displays the first five rows of the dataframe \n",
        "df.head(5)"
      ],
      "execution_count": null,
      "outputs": [
        {
          "output_type": "execute_result",
          "data": {
            "text/html": [
              "<div>\n",
              "<style scoped>\n",
              "    .dataframe tbody tr th:only-of-type {\n",
              "        vertical-align: middle;\n",
              "    }\n",
              "\n",
              "    .dataframe tbody tr th {\n",
              "        vertical-align: top;\n",
              "    }\n",
              "\n",
              "    .dataframe thead th {\n",
              "        text-align: right;\n",
              "    }\n",
              "</style>\n",
              "<table border=\"1\" class=\"dataframe\">\n",
              "  <thead>\n",
              "    <tr style=\"text-align: right;\">\n",
              "      <th></th>\n",
              "      <th>Review</th>\n",
              "      <th>Liked</th>\n",
              "    </tr>\n",
              "  </thead>\n",
              "  <tbody>\n",
              "    <tr>\n",
              "      <th>0</th>\n",
              "      <td>Wow... Loved this place.</td>\n",
              "      <td>1</td>\n",
              "    </tr>\n",
              "    <tr>\n",
              "      <th>1</th>\n",
              "      <td>Crust is not good.</td>\n",
              "      <td>0</td>\n",
              "    </tr>\n",
              "    <tr>\n",
              "      <th>2</th>\n",
              "      <td>Not tasty and the texture was just nasty.</td>\n",
              "      <td>0</td>\n",
              "    </tr>\n",
              "    <tr>\n",
              "      <th>3</th>\n",
              "      <td>Stopped by during the late May bank holiday of...</td>\n",
              "      <td>1</td>\n",
              "    </tr>\n",
              "    <tr>\n",
              "      <th>4</th>\n",
              "      <td>The selection on the menu was great and so wer...</td>\n",
              "      <td>1</td>\n",
              "    </tr>\n",
              "  </tbody>\n",
              "</table>\n",
              "</div>"
            ],
            "text/plain": [
              "                                              Review  Liked\n",
              "0                           Wow... Loved this place.      1\n",
              "1                                 Crust is not good.      0\n",
              "2          Not tasty and the texture was just nasty.      0\n",
              "3  Stopped by during the late May bank holiday of...      1\n",
              "4  The selection on the menu was great and so wer...      1"
            ]
          },
          "metadata": {},
          "execution_count": 30
        }
      ]
    },
    {
      "cell_type": "markdown",
      "metadata": {
        "id": "JJ7YWV1NlBOZ"
      },
      "source": [
        "### **CHECKING THE DATA TYPES**"
      ]
    },
    {
      "cell_type": "code",
      "metadata": {
        "colab": {
          "base_uri": "https://localhost:8080/"
        },
        "id": "hUuWPItck3RU",
        "outputId": "1ce38179-4cba-4631-97c1-c86a4e85db43"
      },
      "source": [
        "df.dtypes"
      ],
      "execution_count": null,
      "outputs": [
        {
          "output_type": "execute_result",
          "data": {
            "text/plain": [
              "Review    object\n",
              "Liked      int64\n",
              "dtype: object"
            ]
          },
          "metadata": {},
          "execution_count": 31
        }
      ]
    },
    {
      "cell_type": "markdown",
      "metadata": {
        "id": "nDFPypCZlI_S"
      },
      "source": [
        "**Features:** \n",
        "1.   Text: Review \n",
        "\n",
        "**Target Variable:** \n",
        "1.   Categorical: Liked     "
      ]
    },
    {
      "cell_type": "markdown",
      "metadata": {
        "id": "K-N5oc1zo2SM"
      },
      "source": [
        "## **CHECKING FOR CLASS IMBALANCE** \n",
        "\n",
        "If there exists class imbalance, number of instances in each class should be balanced. "
      ]
    },
    {
      "cell_type": "code",
      "metadata": {
        "id": "DGNzXgeuAQ5S"
      },
      "source": [
        "unique = df['Liked'].value_counts()"
      ],
      "execution_count": null,
      "outputs": []
    },
    {
      "cell_type": "code",
      "metadata": {
        "colab": {
          "base_uri": "https://localhost:8080/",
          "height": 303
        },
        "id": "_XOFyu1oATZJ",
        "outputId": "f1aca11c-2a0d-4535-df8b-49f5eb961236"
      },
      "source": [
        "plt.figure(figsize=(5, 5))\n",
        "lab = ['Positive','Negative']\n",
        "myexplode = [0.01, 0]\n",
        "plt.pie(unique,labels = lab, explode = myexplode,startangle=90)\n",
        "plt.legend()\n",
        "plt.show()"
      ],
      "execution_count": null,
      "outputs": [
        {
          "output_type": "display_data",
          "data": {
            "image/png": "[encoded data removed]",
            "text/plain": [
              "<Figure size 360x360 with 1 Axes>"
            ]
          },
          "metadata": {}
        }
      ]
    },
    {
      "cell_type": "markdown",
      "metadata": {
        "id": "7OQvl2cDqZ-z"
      },
      "source": [
        "The number of observations (both positive and negative comments) were found to be equal. "
      ]
    },
    {
      "cell_type": "code",
      "metadata": {
        "id": "ORolr6z1LbbS"
      },
      "source": [
        "import re         #regular expression \n",
        "import nltk       #natural language tool kit"
      ],
      "execution_count": null,
      "outputs": []
    },
    {
      "cell_type": "code",
      "metadata": {
        "colab": {
          "base_uri": "https://localhost:8080/"
        },
        "id": "OpR_uVFXRwdr",
        "outputId": "226bdbb7-6c68-4842-be82-720268d83842"
      },
      "source": [
        "nltk.download(\"stopwords\")    \n",
        "\n",
        "#downloads stopwords from nltk library         \n",
        "from nltk.corpus import stopwords \n",
        "\n",
        "#importing porter stemmer module for stemming \n",
        "from nltk.stem.porter import PorterStemmer "
      ],
      "execution_count": null,
      "outputs": [
        {
          "output_type": "stream",
          "name": "stdout",
          "text": [
            "[nltk_data] Downloading package stopwords to /root/nltk_data...\n",
            "[nltk_data]   Package stopwords is already up-to-date!\n"
          ]
        }
      ]
    },
    {
      "cell_type": "code",
      "metadata": {
        "id": "XZlEBMkaRjjF"
      },
      "source": [
        "#declared empty list to collect all the refined reviews\n",
        "corpus=[] \n",
        "\n",
        "for i in range(0,1000):\n",
        "\n",
        "  #retaining all the none characters by space \n",
        "  review = re.sub('[^a-zA-Z]',' ', df['Review'][i])\n",
        "  \n",
        "  #converting to lower case and splitting\n",
        "  review = review.lower()\n",
        "\n",
        "  #splits strings into an array of substrings\n",
        "  review = review.split()\n",
        "  #creating the object of the porterstemmer class\n",
        "  ps=PorterStemmer()\n",
        "\n",
        "  #collecting all english stopwords\n",
        "  all_stopwords=stopwords.words('english') \n",
        "\n",
        "  #remove stopword \"not\" from the ennglish stopwords\n",
        "  all_stopwords.remove('not') \n",
        "\n",
        "  #tokenizing and stemming words to the root words\n",
        "  review=[ps.stem(word) for word in review if not word in set(all_stopwords)]\n",
        "\n",
        "  #list of words is converted into sentence using join function \n",
        "  review=' '.join(review)\n",
        "  corpus.append(review)\n",
        "  "
      ],
      "execution_count": null,
      "outputs": []
    },
    {
      "cell_type": "markdown",
      "metadata": {
        "id": "wZ39_dhgwjqC"
      },
      "source": [
        "### **Creating Bag of Word Models**"
      ]
    },
    {
      "cell_type": "code",
      "metadata": {
        "id": "BCk2G7DNR5ma"
      },
      "source": [
        "#importing Countvectorizer module\n",
        "from sklearn.feature_extraction.text import CountVectorizer\n",
        "\n",
        "# creating the count vectorizer model to build a matrix of terms/token counts \n",
        "cv = CountVectorizer(max_features=1500)      \n",
        "\n",
        "# feeding the corpus data to the count vectorizer model\n",
        "x = cv.fit_transform(corpus).toarray()"
      ],
      "execution_count": null,
      "outputs": []
    },
    {
      "cell_type": "code",
      "metadata": {
        "id": "zG8nto6wSYaB"
      },
      "source": [
        "#setting the target column to the variable \n",
        "y=df.iloc[:,-1].values"
      ],
      "execution_count": null,
      "outputs": []
    },
    {
      "cell_type": "code",
      "metadata": {
        "colab": {
          "base_uri": "https://localhost:8080/"
        },
        "id": "scsYBuxqSEft",
        "outputId": "c6180408-bbe4-4aa4-8848-e0554785e681"
      },
      "source": [
        "#dimensions of the input feature\n",
        "print(x.shape)"
      ],
      "execution_count": null,
      "outputs": [
        {
          "output_type": "stream",
          "name": "stdout",
          "text": [
            "(1000, 1500)\n"
          ]
        }
      ]
    },
    {
      "cell_type": "code",
      "metadata": {
        "id": "n4obQNZ3SGoh"
      },
      "source": [
        "#importing the train_test_split module\n",
        "from sklearn.model_selection import train_test_split\n",
        "\n",
        "#Splitting arrays or matrices into random train and test subsets\n",
        "x_train, x_test, y_train, y_test = train_test_split(x, y, test_size = 0.25, random_state = 0)"
      ],
      "execution_count": null,
      "outputs": []
    },
    {
      "cell_type": "code",
      "metadata": {
        "id": "lJSqpF8nU82Q"
      },
      "source": [
        "#defining function to evaluate the classifier's performance \n",
        "def classifier_results(x_train,y_train,x_test,y_test,y_pred): \n",
        "  from sklearn.metrics import accuracy_score,plot_confusion_matrix  #importing confusion_matrix plot from sklearn \n",
        "  from sklearn.metrics import confusion_matrix                      #importing confusion matrix \n",
        "  matrix = confusion_matrix(y_test,y_pred)                          \n",
        "  True_Positive = matrix[0][0]                                      #Assigning true_positive from confusion_matrix\n",
        "  True_Negative = matrix[1][1]                                      #Assigning true_negative from confusion_matrix  \n",
        "  False_Positive = matrix[0][1]                                     #Assigning false_positive from confusion_matrix\n",
        "  False_Negative = matrix[1][0]                                     #Assigning true_positive from confusion_matrix\n",
        "\n",
        "\n",
        "  #calculating Accuracy from confusion matrix\n",
        "  Accuracy = (True_Positive + True_Negative)/(True_Positive + True_Negative + False_Positive + False_Negative)\n",
        "  Precison = True_Positive / (True_Positive + False_Positive)  #calculating Precision from confusion matrix \n",
        "  Recall = True_Positive / (True_Positive + False_Negative)    #calculating Recall from confusion matrix \n",
        "  F1score = (2*Precison*Recall)/(Precison+Recall)              #calculating F1 score from confusion matrix \n",
        "\n",
        "\n",
        "  print (\"****** Model successfully tested ******\")\n",
        "  print (\"******* Model Statistics ******\")\n",
        "  print(\"Training Accuracy :\", classifier.score(x_train, y_train))\n",
        "  print(\"Testing Accuracy :\", classifier.score(x_test, y_test))\n",
        "  print (\"Accuracy of Model = \",Accuracy)\n",
        "  print (\"Precison of Model = \",Precison)\n",
        "  print (\"Recall of Model   = \",Recall)\n",
        "  print (\"F1score of Model  = \",F1score)\n",
        "  print (\"****************************\")\n",
        "\n",
        "  plot_confusion_matrix(X=x_test,y_true=y_test,estimator=classifier)"
      ],
      "execution_count": null,
      "outputs": []
    },
    {
      "cell_type": "markdown",
      "metadata": {
        "id": "kRJNX6iqTm_S"
      },
      "source": [
        "**NAIVE BAYES ALGORITHM**"
      ]
    },
    {
      "cell_type": "code",
      "metadata": {
        "colab": {
          "base_uri": "https://localhost:8080/"
        },
        "id": "MF2XMhWfSQbO",
        "outputId": "d6c31885-22ce-457a-e91e-652ac68b78ef"
      },
      "source": [
        "## importing Multinomial Naive Bayes classifier\n",
        "from sklearn.naive_bayes import MultinomialNB\n",
        "classifier = MultinomialNB()\n",
        "classifier.fit(x_train, y_train)    # Fitting Multinomial Naive Bayes to the Training set"
      ],
      "execution_count": null,
      "outputs": [
        {
          "output_type": "execute_result",
          "data": {
            "text/plain": [
              "MultinomialNB(alpha=1.0, class_prior=None, fit_prior=True)"
            ]
          },
          "metadata": {},
          "execution_count": 77
        }
      ]
    },
    {
      "cell_type": "code",
      "metadata": {
        "colab": {
          "base_uri": "https://localhost:8080/",
          "height": 432
        },
        "id": "gGHIIT0lUr7t",
        "outputId": "ed6cc0d6-c4ae-4cc2-a5f7-b7d7c1c5279a"
      },
      "source": [
        "#classifier performance on test set\n",
        "classifier_results(x_train,y_train,x_test,y_test,y_pred)  "
      ],
      "execution_count": null,
      "outputs": [
        {
          "output_type": "stream",
          "name": "stdout",
          "text": [
            "****** Model successfully tested ******\n",
            "******* Model Statistics ******\n",
            "Training Accuracy : 0.944\n",
            "Testing Accuracy : 0.768\n",
            "Accuracy of Model =  0.72\n",
            "Precison of Model =  0.5726495726495726\n",
            "Recall of Model   =  0.7701149425287356\n",
            "F1score of Model  =  0.6568627450980391\n",
            "****************************\n"
          ]
        },
        {
          "output_type": "display_data",
          "data": {
            "image/png": "[encoded data removed]",
            "text/plain": [
              "<Figure size 432x288 with 2 Axes>"
            ]
          },
          "metadata": {
            "needs_background": "light"
          }
        }
      ]
    },
    {
      "cell_type": "markdown",
      "metadata": {
        "id": "x_d7U8Lr_rJG"
      },
      "source": [
        "**RANDOM FOREST CLASSIFIER ALGORITHM**\n"
      ]
    },
    {
      "cell_type": "code",
      "metadata": {
        "id": "OmAijYY2TOSa"
      },
      "source": [
        "## importing Random Forest classifier\n",
        "from sklearn.ensemble import RandomForestClassifier\n",
        "classifier = RandomForestClassifier()\n",
        "classifier.fit(x_train, y_train)\n",
        "\n",
        "# predicting the test set results\n",
        "y_pred = classifier.predict(x_test)"
      ],
      "execution_count": null,
      "outputs": []
    },
    {
      "cell_type": "code",
      "metadata": {
        "colab": {
          "base_uri": "https://localhost:8080/",
          "height": 432
        },
        "id": "Zipobxx2VfKS",
        "outputId": "d55bdfa0-c525-4da5-eadd-bf8f72e204fb"
      },
      "source": [
        "#classifier performance on test set\n",
        "classifier_results(x_train,y_train,x_test,y_test,y_pred)"
      ],
      "execution_count": null,
      "outputs": [
        {
          "output_type": "stream",
          "name": "stdout",
          "text": [
            "******Model successfully tested******\n",
            "******Model Statistics ******\n",
            "Training Accuracy : 0.996\n",
            "Testing Accuracy : 0.736\n",
            "Accuracy of Model =  0.736\n",
            "Precison of Model =  0.905982905982906\n",
            "Recall of Model   =  0.6583850931677019\n",
            "F1score of Model  =  0.7625899280575539\n",
            "****************************\n"
          ]
        },
        {
          "output_type": "display_data",
          "data": {
            "image/png": "[encoded data removed]",
            "text/plain": [
              "<Figure size 432x288 with 2 Axes>"
            ]
          },
          "metadata": {
            "needs_background": "light"
          }
        }
      ]
    },
    {
      "cell_type": "markdown",
      "metadata": {
        "id": "xmUeU-XfAbDV"
      },
      "source": [
        "**SUPPORT VECTOR CLASSIFIER ALGORITHM**"
      ]
    },
    {
      "cell_type": "code",
      "metadata": {
        "id": "qG1SgKXAVhhK"
      },
      "source": [
        "from sklearn.svm import SVC\n",
        "from sklearn.metrics import confusion_matrix\n",
        "\n",
        "classifier = SVC()\n",
        "classifier.fit(x_train, y_train)\n",
        "\n",
        "# predicting the test set results\n",
        "y_pred = classifier.predict(x_test)"
      ],
      "execution_count": null,
      "outputs": []
    },
    {
      "cell_type": "code",
      "metadata": {
        "colab": {
          "base_uri": "https://localhost:8080/",
          "height": 432
        },
        "id": "FIgr7H7uXxGU",
        "outputId": "7eb4cc38-7a80-4794-b221-bb51225891c3"
      },
      "source": [
        "classifier_results(x_train,y_train,x_test,y_test,y_pred)"
      ],
      "execution_count": null,
      "outputs": [
        {
          "output_type": "stream",
          "name": "stdout",
          "text": [
            "******Model successfully tested******\n",
            "******Model Statistics ******\n",
            "Training Accuracy : 0.972\n",
            "Testing Accuracy : 0.76\n",
            "Accuracy of Model =  0.76\n",
            "Precison of Model =  0.9230769230769231\n",
            "Recall of Model   =  0.6792452830188679\n",
            "F1score of Model  =  0.7826086956521738\n",
            "****************************\n"
          ]
        },
        {
          "output_type": "display_data",
          "data": {
            "image/png": "[encoded data removed]",
            "text/plain": [
              "<Figure size 432x288 with 2 Axes>"
            ]
          },
          "metadata": {
            "needs_background": "light"
          }
        }
      ]
    },
    {
      "cell_type": "markdown",
      "metadata": {
        "id": "-0F_yX9tAjg4"
      },
      "source": [
        "**K-NEAREST NEIGHBOR CLASSIFIER ALGORITHM**"
      ]
    },
    {
      "cell_type": "code",
      "metadata": {
        "id": "weQsNfKrXkwi"
      },
      "source": [
        "from sklearn.neighbors import KNeighborsClassifier\n",
        "classifier = KNeighborsClassifier()\n",
        "classifier.fit(x_train,y_train)\n",
        "\n",
        "y_pred = classifier.predict(x_test)"
      ],
      "execution_count": null,
      "outputs": []
    },
    {
      "cell_type": "code",
      "metadata": {
        "colab": {
          "base_uri": "https://localhost:8080/",
          "height": 432
        },
        "id": "a8jhe1gdYax6",
        "outputId": "44bf9417-377e-4057-bea5-e2ddc02dd672"
      },
      "source": [
        "classifier_results(x_train,y_train,x_test,y_test,y_pred)"
      ],
      "execution_count": null,
      "outputs": [
        {
          "output_type": "stream",
          "name": "stdout",
          "text": [
            "******Model successfully tested******\n",
            "******Model Statistics ******\n",
            "Training Accuracy : 0.8173333333333334\n",
            "Testing Accuracy : 0.684\n",
            "Accuracy of Model =  0.684\n",
            "Precison of Model =  0.811965811965812\n",
            "Recall of Model   =  0.625\n",
            "F1score of Model  =  0.7063197026022304\n",
            "****************************\n"
          ]
        },
        {
          "output_type": "display_data",
          "data": {
            "image/png": "[encoded data removed]",
            "text/plain": [
              "<Figure size 432x288 with 2 Axes>"
            ]
          },
          "metadata": {
            "needs_background": "light"
          }
        }
      ]
    },
    {
      "cell_type": "markdown",
      "metadata": {
        "id": "JMrv1yZWDRtU"
      },
      "source": [
        "Since the dataset contained roughly equal number of samples in each class [Positive (1) and Negative (0)]. The accuracy metric of the classification report could be used for deciding the right model. \n",
        "\n",
        "\n",
        "*   Accuracy of Model : tells Overall, how often is the classifier correct? and \n",
        "*   Precision of Model : tells a positive value is predicted, how often is the prediction correct?\n",
        "*   Recall of Model : tells the actual value is positive, how often is the prediction correct?\n",
        "*   F1 score of Model : F1 Score might be a better measure to use if we need to seek a balance between Precision and Recall and there is an uneven class distribution (large number of Actual Negatives).\n",
        "\n",
        "\n",
        "\n",
        "\n",
        "\n",
        "\n",
        "\n"
      ]
    },
    {
      "cell_type": "markdown",
      "metadata": {
        "id": "qk-6K9PKsa48"
      },
      "source": [
        "![Capture.PNG](data:image/png;base64,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)"
      ]
    },
    {
      "cell_type": "markdown",
      "metadata": {
        "id": "nXDSBB0TuM2g"
      },
      "source": [
        "**Therefore Support Vector Classfier Algorithm predicted better in classifying the sentiment of the customers** \n",
        "\n",
        "\n"
      ]
    },
    {
      "cell_type": "code",
      "metadata": {
        "id": "-yY4-k57ud7J"
      },
      "source": [
        ""
      ],
      "execution_count": null,
      "outputs": []
    }
  ]
}